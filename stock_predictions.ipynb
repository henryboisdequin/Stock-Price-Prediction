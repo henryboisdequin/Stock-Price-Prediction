{
  "nbformat": 4,
  "nbformat_minor": 0,
  "metadata": {
    "colab": {
      "name": "stock_predictions.ipynb",
      "provenance": []
    },
    "kernelspec": {
      "name": "python3",
      "display_name": "Python 3"
    }
  },
  "cells": [
    {
      "cell_type": "code",
      "metadata": {
        "id": "F2MXAVwaDsXk",
        "colab_type": "code",
        "colab": {}
      },
      "source": [
        "import tensorflow as tf\n",
        "from tensorflow.keras.layers import Input, LSTM, GRU, SimpleRNN, Dense, MaxPooling1D\n",
        "from tensorflow.keras.models import Model\n",
        "from tensorflow.keras.optimizers import Adam, SGD\n",
        "import numpy as np\n",
        "import pandas as pd\n",
        "import matplotlib.pyplot as plt\n",
        "from sklearn.preprocessing import StandardScaler"
      ],
      "execution_count": 43,
      "outputs": []
    },
    {
      "cell_type": "code",
      "metadata": {
        "id": "SaJEsTBIgCOB",
        "colab_type": "code",
        "colab": {
          "base_uri": "https://localhost:8080/",
          "height": 221
        },
        "outputId": "430f82a4-c802-4129-9572-a87c4c6e184f"
      },
      "source": [
        "df = pd.read_csv('https://raw.githubusercontent.com/plotly/datasets/master/tesla-stock-price.csv')\n",
        "print(\"Head: \", df.head())\n",
        "print(\"Tail: \", df.tail())"
      ],
      "execution_count": 44,
      "outputs": [
        {
          "output_type": "stream",
          "text": [
            "Head:           date   close         volume    open    high       low\n",
            "0       11:34  270.49      4,787,699  264.50  273.88  262.2400\n",
            "1  2018/10/15  259.59   6189026.0000  259.06  263.28  254.5367\n",
            "2  2018/10/12  258.78   7189257.0000  261.00  261.99  252.0100\n",
            "3  2018/10/11  252.23   8128184.0000  257.53  262.25  249.0300\n",
            "4  2018/10/10  256.88  12781560.0000  264.61  265.51  247.7700\n",
            "Tail:             date   close         volume    open      high     low\n",
            "752  2015/10/21  210.09   4177956.0000  211.99  214.8100  208.80\n",
            "753  2015/10/20  213.03  14877020.0000  227.72  228.6000  202.00\n",
            "754  2015/10/19  228.10   2506836.0000  226.50  231.1500  224.94\n",
            "755  2015/10/16  227.01   4327574.0000  223.04  230.4805  222.87\n",
            "756  2015/10/15  221.31   2835920.0000  216.43  221.7300  213.70\n"
          ],
          "name": "stdout"
        }
      ]
    },
    {
      "cell_type": "code",
      "metadata": {
        "id": "mywIYDsmmMR3",
        "colab_type": "code",
        "colab": {
          "base_uri": "https://localhost:8080/",
          "height": 299
        },
        "outputId": "1bfcea94-aa73-4fa0-ef99-0e331893f855"
      },
      "source": [
        "# understand data better\n",
        "\n",
        "print(\"High in Blue, Low in Orange\")\n",
        "df['high'].hist()\n",
        "df['low'].hist()"
      ],
      "execution_count": 45,
      "outputs": [
        {
          "output_type": "stream",
          "text": [
            "High in Blue, Low in Orange\n"
          ],
          "name": "stdout"
        },
        {
          "output_type": "execute_result",
          "data": {
            "text/plain": [
              "<matplotlib.axes._subplots.AxesSubplot at 0x7fd711861438>"
            ]
          },
          "metadata": {
            "tags": []
          },
          "execution_count": 45
        },
        {
          "output_type": "display_data",
          "data": {
            "image/png": "[encoded data removed]",
            "text/plain": [
              "<Figure size 432x288 with 1 Axes>"
            ]
          },
          "metadata": {
            "tags": [],
            "needs_background": "light"
          }
        }
      ]
    },
    {
      "cell_type": "code",
      "metadata": {
        "id": "DEzDCOyQhsR1",
        "colab_type": "code",
        "colab": {}
      },
      "source": [
        "series = df['close'].values.reshape(-1, 1)"
      ],
      "execution_count": 46,
      "outputs": []
    },
    {
      "cell_type": "code",
      "metadata": {
        "id": "9T-qAESNihSE",
        "colab_type": "code",
        "colab": {}
      },
      "source": [
        "scaler = StandardScaler()\n",
        "scaler.fit(series[:len(series) // 2])\n",
        "series = scaler.transform(series).flatten()"
      ],
      "execution_count": 47,
      "outputs": []
    },
    {
      "cell_type": "code",
      "metadata": {
        "id": "PONvmRRzitcY",
        "colab_type": "code",
        "colab": {
          "base_uri": "https://localhost:8080/",
          "height": 34
        },
        "outputId": "ecb86f55-5cb3-4b7e-c9c7-abc0a0250c89"
      },
      "source": [
        "# covert to supervised learning dataset\n",
        "T = 10\n",
        "D = 1\n",
        "X = []\n",
        "Y = []\n",
        "for t in range(len(series) - T):\n",
        "  x = series[t:t+T]\n",
        "  X.append(x)\n",
        "  y = series[t+T]\n",
        "  Y.append(y)\n",
        "\n",
        "X = np.array(X).reshape(-1, T, 1) # convert to 3D\n",
        "Y = np.array(Y)\n",
        "N = len(X)\n",
        "print(\"X.shape: \", X.shape, \"Y.shape: \", Y.shape)"
      ],
      "execution_count": 23,
      "outputs": [
        {
          "output_type": "stream",
          "text": [
            "X.shape:  (747, 10, 1) Y.shape:  (747,)\n"
          ],
          "name": "stdout"
        }
      ]
    },
    {
      "cell_type": "code",
      "metadata": {
        "id": "ktRQhG09i3SG",
        "colab_type": "code",
        "colab": {
          "base_uri": "https://localhost:8080/",
          "height": 1000
        },
        "outputId": "20e598ff-2f5b-469a-b6ac-614cab8faf89"
      },
      "source": [
        "# Build the model\n",
        "i = Input(shape=(T, 1))\n",
        "x = LSTM(5)(i)\n",
        "x = Dense(1)(x)\n",
        "model = Model(i, x)\n",
        "model.compile(loss='mse', optimizer=Adam(lr=0.1))\n",
        "\n",
        "# train the RNN model\n",
        "r = model.fit(\n",
        "    X[:-N // 2], Y[:-N // 2],\n",
        "    epochs=80,\n",
        "    validation_data=(X[-N//2:], Y[-N//2:]),\n",
        ")"
      ],
      "execution_count": 38,
      "outputs": [
        {
          "output_type": "stream",
          "text": [
            "Epoch 1/80\n",
            "12/12 [==============================] - 0s 37ms/step - loss: 0.3286 - val_loss: 6.6904\n",
            "Epoch 2/80\n",
            "12/12 [==============================] - 0s 8ms/step - loss: 0.1317 - val_loss: 6.6030\n",
            "Epoch 3/80\n",
            "12/12 [==============================] - 0s 8ms/step - loss: 0.1216 - val_loss: 5.4149\n",
            "Epoch 4/80\n",
            "12/12 [==============================] - 0s 9ms/step - loss: 0.1173 - val_loss: 4.6129\n",
            "Epoch 5/80\n",
            "12/12 [==============================] - 0s 9ms/step - loss: 0.1228 - val_loss: 4.3501\n",
            "Epoch 6/80\n",
            "12/12 [==============================] - 0s 9ms/step - loss: 0.1134 - val_loss: 4.2301\n",
            "Epoch 7/80\n",
            "12/12 [==============================] - 0s 9ms/step - loss: 0.1115 - val_loss: 4.2742\n",
            "Epoch 8/80\n",
            "12/12 [==============================] - 0s 9ms/step - loss: 0.1177 - val_loss: 4.3308\n",
            "Epoch 9/80\n",
            "12/12 [==============================] - 0s 9ms/step - loss: 0.1300 - val_loss: 4.3941\n",
            "Epoch 10/80\n",
            "12/12 [==============================] - 0s 9ms/step - loss: 0.1216 - val_loss: 4.9013\n",
            "Epoch 11/80\n",
            "12/12 [==============================] - 0s 8ms/step - loss: 0.1119 - val_loss: 4.3266\n",
            "Epoch 12/80\n",
            "12/12 [==============================] - 0s 9ms/step - loss: 0.1121 - val_loss: 4.3389\n",
            "Epoch 13/80\n",
            "12/12 [==============================] - 0s 9ms/step - loss: 0.1144 - val_loss: 4.8317\n",
            "Epoch 14/80\n",
            "12/12 [==============================] - 0s 10ms/step - loss: 0.1123 - val_loss: 4.5440\n",
            "Epoch 15/80\n",
            "12/12 [==============================] - 0s 9ms/step - loss: 0.1135 - val_loss: 4.8252\n",
            "Epoch 16/80\n",
            "12/12 [==============================] - 0s 9ms/step - loss: 0.1108 - val_loss: 5.0993\n",
            "Epoch 17/80\n",
            "12/12 [==============================] - 0s 9ms/step - loss: 0.1176 - val_loss: 4.8871\n",
            "Epoch 18/80\n",
            "12/12 [==============================] - 0s 9ms/step - loss: 0.1138 - val_loss: 4.7910\n",
            "Epoch 19/80\n",
            "12/12 [==============================] - 0s 9ms/step - loss: 0.1192 - val_loss: 4.7083\n",
            "Epoch 20/80\n",
            "12/12 [==============================] - 0s 9ms/step - loss: 0.1193 - val_loss: 4.3454\n",
            "Epoch 21/80\n",
            "12/12 [==============================] - 0s 9ms/step - loss: 0.1144 - val_loss: 4.5743\n",
            "Epoch 22/80\n",
            "12/12 [==============================] - 0s 10ms/step - loss: 0.1124 - val_loss: 4.0458\n",
            "Epoch 23/80\n",
            "12/12 [==============================] - 0s 10ms/step - loss: 0.1259 - val_loss: 4.9257\n",
            "Epoch 24/80\n",
            "12/12 [==============================] - 0s 9ms/step - loss: 0.1105 - val_loss: 4.8262\n",
            "Epoch 25/80\n",
            "12/12 [==============================] - 0s 9ms/step - loss: 0.1080 - val_loss: 5.2163\n",
            "Epoch 26/80\n",
            "12/12 [==============================] - 0s 9ms/step - loss: 0.1069 - val_loss: 4.1806\n",
            "Epoch 27/80\n",
            "12/12 [==============================] - 0s 8ms/step - loss: 0.1181 - val_loss: 5.1179\n",
            "Epoch 28/80\n",
            "12/12 [==============================] - 0s 9ms/step - loss: 0.1160 - val_loss: 5.0873\n",
            "Epoch 29/80\n",
            "12/12 [==============================] - 0s 10ms/step - loss: 0.1124 - val_loss: 4.7859\n",
            "Epoch 30/80\n",
            "12/12 [==============================] - 0s 9ms/step - loss: 0.1150 - val_loss: 5.1390\n",
            "Epoch 31/80\n",
            "12/12 [==============================] - 0s 9ms/step - loss: 0.1239 - val_loss: 5.2615\n",
            "Epoch 32/80\n",
            "12/12 [==============================] - 0s 9ms/step - loss: 0.1128 - val_loss: 4.6668\n",
            "Epoch 33/80\n",
            "12/12 [==============================] - 0s 10ms/step - loss: 0.1119 - val_loss: 4.5143\n",
            "Epoch 34/80\n",
            "12/12 [==============================] - 0s 9ms/step - loss: 0.1138 - val_loss: 4.6016\n",
            "Epoch 35/80\n",
            "12/12 [==============================] - 0s 9ms/step - loss: 0.1204 - val_loss: 4.7128\n",
            "Epoch 36/80\n",
            "12/12 [==============================] - 0s 9ms/step - loss: 0.1179 - val_loss: 5.4115\n",
            "Epoch 37/80\n",
            "12/12 [==============================] - 0s 9ms/step - loss: 0.1260 - val_loss: 4.5211\n",
            "Epoch 38/80\n",
            "12/12 [==============================] - 0s 9ms/step - loss: 0.1149 - val_loss: 4.6702\n",
            "Epoch 39/80\n",
            "12/12 [==============================] - 0s 9ms/step - loss: 0.1232 - val_loss: 3.9770\n",
            "Epoch 40/80\n",
            "12/12 [==============================] - 0s 9ms/step - loss: 0.1077 - val_loss: 3.8249\n",
            "Epoch 41/80\n",
            "12/12 [==============================] - 0s 9ms/step - loss: 0.1096 - val_loss: 4.2100\n",
            "Epoch 42/80\n",
            "12/12 [==============================] - 0s 9ms/step - loss: 0.1065 - val_loss: 4.2327\n",
            "Epoch 43/80\n",
            "12/12 [==============================] - 0s 9ms/step - loss: 0.1087 - val_loss: 4.4419\n",
            "Epoch 44/80\n",
            "12/12 [==============================] - 0s 9ms/step - loss: 0.1105 - val_loss: 4.7745\n",
            "Epoch 45/80\n",
            "12/12 [==============================] - 0s 9ms/step - loss: 0.1067 - val_loss: 5.1191\n",
            "Epoch 46/80\n",
            "12/12 [==============================] - 0s 9ms/step - loss: 0.1142 - val_loss: 4.7091\n",
            "Epoch 47/80\n",
            "12/12 [==============================] - 0s 9ms/step - loss: 0.1180 - val_loss: 4.6562\n",
            "Epoch 48/80\n",
            "12/12 [==============================] - 0s 10ms/step - loss: 0.1102 - val_loss: 3.9936\n",
            "Epoch 49/80\n",
            "12/12 [==============================] - 0s 9ms/step - loss: 0.1074 - val_loss: 4.3102\n",
            "Epoch 50/80\n",
            "12/12 [==============================] - 0s 9ms/step - loss: 0.1148 - val_loss: 4.9163\n",
            "Epoch 51/80\n",
            "12/12 [==============================] - 0s 9ms/step - loss: 0.1151 - val_loss: 5.3792\n",
            "Epoch 52/80\n",
            "12/12 [==============================] - 0s 9ms/step - loss: 0.1161 - val_loss: 5.2537\n",
            "Epoch 53/80\n",
            "12/12 [==============================] - 0s 9ms/step - loss: 0.1121 - val_loss: 4.6752\n",
            "Epoch 54/80\n",
            "12/12 [==============================] - 0s 8ms/step - loss: 0.1030 - val_loss: 5.3632\n",
            "Epoch 55/80\n",
            "12/12 [==============================] - 0s 9ms/step - loss: 0.1108 - val_loss: 4.6240\n",
            "Epoch 56/80\n",
            "12/12 [==============================] - 0s 8ms/step - loss: 0.1050 - val_loss: 4.3611\n",
            "Epoch 57/80\n",
            "12/12 [==============================] - 0s 9ms/step - loss: 0.1021 - val_loss: 4.7931\n",
            "Epoch 58/80\n",
            "12/12 [==============================] - 0s 9ms/step - loss: 0.1073 - val_loss: 4.1374\n",
            "Epoch 59/80\n",
            "12/12 [==============================] - 0s 10ms/step - loss: 0.1223 - val_loss: 4.4484\n",
            "Epoch 60/80\n",
            "12/12 [==============================] - 0s 9ms/step - loss: 0.1169 - val_loss: 4.2401\n",
            "Epoch 61/80\n",
            "12/12 [==============================] - 0s 9ms/step - loss: 0.1074 - val_loss: 3.6890\n",
            "Epoch 62/80\n",
            "12/12 [==============================] - 0s 9ms/step - loss: 0.1066 - val_loss: 3.3266\n",
            "Epoch 63/80\n",
            "12/12 [==============================] - 0s 9ms/step - loss: 0.1024 - val_loss: 3.0613\n",
            "Epoch 64/80\n",
            "12/12 [==============================] - 0s 9ms/step - loss: 0.1091 - val_loss: 3.7681\n",
            "Epoch 65/80\n",
            "12/12 [==============================] - 0s 9ms/step - loss: 0.1066 - val_loss: 3.7990\n",
            "Epoch 66/80\n",
            "12/12 [==============================] - 0s 9ms/step - loss: 0.1053 - val_loss: 2.9785\n",
            "Epoch 67/80\n",
            "12/12 [==============================] - 0s 9ms/step - loss: 0.1088 - val_loss: 3.5945\n",
            "Epoch 68/80\n",
            "12/12 [==============================] - 0s 10ms/step - loss: 0.1049 - val_loss: 3.7648\n",
            "Epoch 69/80\n",
            "12/12 [==============================] - 0s 9ms/step - loss: 0.1039 - val_loss: 3.2523\n",
            "Epoch 70/80\n",
            "12/12 [==============================] - 0s 10ms/step - loss: 0.1101 - val_loss: 3.4060\n",
            "Epoch 71/80\n",
            "12/12 [==============================] - 0s 9ms/step - loss: 0.1074 - val_loss: 3.7574\n",
            "Epoch 72/80\n",
            "12/12 [==============================] - 0s 9ms/step - loss: 0.1119 - val_loss: 3.6339\n",
            "Epoch 73/80\n",
            "12/12 [==============================] - 0s 9ms/step - loss: 0.1083 - val_loss: 3.3161\n",
            "Epoch 74/80\n",
            "12/12 [==============================] - 0s 9ms/step - loss: 0.1047 - val_loss: 3.2385\n",
            "Epoch 75/80\n",
            "12/12 [==============================] - 0s 9ms/step - loss: 0.1037 - val_loss: 3.6610\n",
            "Epoch 76/80\n",
            "12/12 [==============================] - 0s 9ms/step - loss: 0.1043 - val_loss: 4.3874\n",
            "Epoch 77/80\n",
            "12/12 [==============================] - 0s 9ms/step - loss: 0.1108 - val_loss: 5.0016\n",
            "Epoch 78/80\n",
            "12/12 [==============================] - 0s 9ms/step - loss: 0.1213 - val_loss: 4.7699\n",
            "Epoch 79/80\n",
            "12/12 [==============================] - 0s 10ms/step - loss: 0.1126 - val_loss: 4.8303\n",
            "Epoch 80/80\n",
            "12/12 [==============================] - 0s 9ms/step - loss: 0.1134 - val_loss: 3.7428\n"
          ],
          "name": "stdout"
        }
      ]
    },
    {
      "cell_type": "code",
      "metadata": {
        "id": "rOl6dnEKj5ib",
        "colab_type": "code",
        "colab": {
          "base_uri": "https://localhost:8080/",
          "height": 286
        },
        "outputId": "a237a4ad-6404-4ab7-d721-31e687c81e92"
      },
      "source": [
        "# Loss of model over time\n",
        "plt.plot(r.history['loss'], label=\"Loss\")\n",
        "plt.plot(r.history['val_loss'], label=\"Testing Loss\")\n",
        "plt.legend()"
      ],
      "execution_count": 39,
      "outputs": [
        {
          "output_type": "execute_result",
          "data": {
            "text/plain": [
              "<matplotlib.legend.Legend at 0x7fd7118b8e80>"
            ]
          },
          "metadata": {
            "tags": []
          },
          "execution_count": 39
        },
        {
          "output_type": "display_data",
          "data": {
            "image/png": "[encoded data removed]",
            "text/plain": [
              "<Figure size 432x288 with 1 Axes>"
            ]
          },
          "metadata": {
            "tags": [],
            "needs_background": "light"
          }
        }
      ]
    },
    {
      "cell_type": "code",
      "metadata": {
        "id": "G5Zo84p4kLg7",
        "colab_type": "code",
        "colab": {
          "base_uri": "https://localhost:8080/",
          "height": 299
        },
        "outputId": "17d5ed43-6182-4006-9ec4-1ce04dba30ef"
      },
      "source": [
        "# Forecast/Predictions\n",
        "\n",
        "outputs = model.predict(X)\n",
        "print(outputs.shape)\n",
        "predictions = outputs[:,0]\n",
        "\n",
        "plt.plot(Y, label=\"Target\")\n",
        "plt.plot(predictions, label=\"Predictions\")\n",
        "plt.legend()"
      ],
      "execution_count": 32,
      "outputs": [
        {
          "output_type": "stream",
          "text": [
            "(747, 1)\n"
          ],
          "name": "stdout"
        },
        {
          "output_type": "execute_result",
          "data": {
            "text/plain": [
              "<matplotlib.legend.Legend at 0x7fd7138a25c0>"
            ]
          },
          "metadata": {
            "tags": []
          },
          "execution_count": 32
        },
        {
          "output_type": "display_data",
          "data": {
            "image/png": "[encoded data removed]",
            "text/plain": [
              "<Figure size 432x288 with 1 Axes>"
            ]
          },
          "metadata": {
            "tags": [],
            "needs_background": "light"
          }
        }
      ]
    }
  ]
}